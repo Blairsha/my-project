{
  "cells": [
    {
      "cell_type": "markdown",
      "metadata": {},
      "source": [
        "import pandas as pd\n",
        "from sklearn.model_selection import train_test_split\n",
        "from sklearn.pipeline import Pipeline\n",
        "from sklearn.compose import ColumnTransformer\n",
        "from sklearn.preprocessing import StandardScaler, OneHotEncoder\n",
        "from sklearn.impute import SimpleImputer\n",
        "from xgboost import XGBRegressor\n",
        "import joblib\n",
        "\n",
        "# Загрузка данных\n",
        "file_path = 'Laptop_price.csv'\n",
        "df = pd.read_csv(file_path)\n",
        "\n",
        "X = df.drop(columns=['Price'])\n",
        "y = df['Price']\n",
        "\n",
        "# Разделение данных\n",
        "X_train, X_test, y_train, y_test = train_test_split(X, y, test_size=0.2, random_state=42)\n",
        "\n",
        "# Создание пайплайна\n",
        "num_features = X.select_dtypes(include=['int64', 'float64']).columns.tolist()\n",
        "cat_features = X.select_dtypes(include=['object']).columns.tolist()\n",
        "\n",
        "num_transformer = Pipeline([\n",
        "    ('imputer', SimpleImputer(strategy='median')),\n",
        "    ('scaler', StandardScaler())\n",
        "])\n",
        "\n",
        "cat_transformer = Pipeline([\n",
        "    ('imputer', SimpleImputer(strategy='most_frequent')),\n",
        "    ('encoder', OneHotEncoder(handle_unknown='ignore'))\n",
        "])\n",
        "\n",
        "preprocessor = ColumnTransformer([\n",
        "    ('num', num_transformer, num_features),\n",
        "    ('cat', cat_transformer, cat_features)\n",
        "])\n",
        "\n",
        "pipeline = Pipeline([\n",
        "    ('preprocessor', preprocessor),\n",
        "    ('model', XGBRegressor(n_estimators=100, learning_rate=0.1, max_depth=5))\n",
        "])\n",
        "\n",
        "# Обучение модели\n",
        "pipeline.fit(X_train, y_train)\n",
        "\n",
        "# Сохранение модели\n",
        "joblib.dump(pipeline, 'laptop_price_model.pkl')"
      ]
    }
  ],
  "metadata": {
    "colab": {
      "provenance": []
    },
    "kernelspec": {
      "display_name": "Python 3",
      "name": "python3"
    },
    "language_info": {
      "name": "python"
    }
  },
  "nbformat": 4,
  "nbformat_minor": 0
}
